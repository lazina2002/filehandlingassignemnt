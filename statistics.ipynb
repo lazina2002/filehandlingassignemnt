{
  "nbformat": 4,
  "nbformat_minor": 0,
  "metadata": {
    "colab": {
      "provenance": []
    },
    "kernelspec": {
      "name": "python3",
      "display_name": "Python 3"
    },
    "language_info": {
      "name": "python"
    }
  },
  "cells": [
    {
      "cell_type": "markdown",
      "source": [
        "ASSIGNMENT QUESTION:"
      ],
      "metadata": {
        "id": "pl_CbJq_7qBF"
      }
    },
    {
      "cell_type": "markdown",
      "source": [
        "1. Explain the different types of data (qualitative and quantitative) and provide examples of each. Discuss\n",
        "nominal, ordinal, interval, and ratio scales.\n",
        "- Qualitative data This data is descriptive and non-numerical. Examples include eye color, car type, interview transcripts, and open-ended survey responses.\n",
        "- Quantitative data This data is numerical and can be counted or measured. Examples include height, weight, age, distance, speed, and test scores.\n",
        "\n",
        "- Nominal This scale labels variables without any quantitative value. Examples include hair color, gender, and nationality.\n",
        "- Ordinal This scale categorizes and ranks data, but you can't say anything about the intervals between rankings. Examples include language ability and Likert-type questions.\n",
        "- Interval This scale allows you to categorize, rank, and infer equal intervals between data points, but there is no true zero point.\n",
        "- Ratio This scale is similar to the interval scale, but it has a \"true zero\". Examples include weight in kilograms, distance between two points, and income from your job"
      ],
      "metadata": {
        "id": "E8KMRlak72xW"
      }
    },
    {
      "cell_type": "markdown",
      "source": [
        "2. What are the measures of central tendency, and when should you use each? Discuss the mean, median,\n",
        "and mode with examples and situations where each is appropriate.\n",
        "- The central tendency can be found using the formulas of mean, median or mode in most of the cases. As we know, mean is the average of a given data set, median is the middlemost data value and the mode represents the most frequently occurring data value in the set."
      ],
      "metadata": {
        "id": "DrcUASoN87Cj"
      }
    },
    {
      "cell_type": "markdown",
      "source": [
        "3.. Explain the concept of dispersion. How do variance and standard deviation measure the spread of data?\n",
        "- Dispersion is a statistical concept that measures how spread out a set of data is around a central value. Variance and standard deviation are two measures of dispersion that describe how data is spread out:\n",
        "- Variance:A measure of how spread out all data points are in a set. It's calculated by finding the mean of the data set, subtracting the mean from each data point, squaring each of the deviations, and then calculating the average of the squared deviations.\n",
        "- Standard deviation:A measure of how much data is spread out from the mean. It's calculated by taking the square root of the variance. A high standard deviation means the data is more spread out from the mean.\n"
      ],
      "metadata": {
        "id": "4f2ah7Ev9L_e"
      }
    },
    {
      "cell_type": "markdown",
      "source": [
        "4. What is a box plot, and what can it tell you about the distribution of data?\n",
        "- A box plot (aka box and whisker plot) uses boxes and lines to depict the distributions of one or more groups of numeric data. Box limits indicate the range of the central 50% of the data, with a central line marking the median value."
      ],
      "metadata": {
        "id": "Izsa_Zut9cJu"
      }
    },
    {
      "cell_type": "markdown",
      "source": [
        "5.Discuss the role of random sampling in making inferences about populations.\n",
        "- Random sampling plays a key role in making inferences about populations by helping to reduce bias and ensure that a sample is representative of the population."
      ],
      "metadata": {
        "id": "zTIp9Mi99uPk"
      }
    },
    {
      "cell_type": "markdown",
      "source": [
        "6.. Explain the concept of skewness and its types. How does skewness affect the interpretation of data?\n",
        "- Skewness is a statistical measurement that describes how asymmetric a distribution is, or how much it differs from a normal, symmetrical bell curve\n",
        "- Skewness can be positive, negative, or zero, and indicates whether the distribution's left or right side is longer:\n",
        "- Positive skew: The distribution's right side is longer, and the average is larger than the median.\n",
        "- Negative skew: The distribution's left side is longer, and the median is larger than the average.\n",
        "- Zero skew: The distribution is symmetrical, and the mean, median, and mode are all equal."
      ],
      "metadata": {
        "id": "3-k6P5Up97ul"
      }
    },
    {
      "cell_type": "markdown",
      "source": [
        "7.. What is the interquartile range (IQR), and how is it used to detect outliers?\n",
        "- The interquartile range (IQR) is a statistical measurement of the spread of the middle 50% of a data set. It's used to identify outliers, which are data points that are significantly different from the rest of the data.\n",
        "To calculate the IQR, you subtract the first quartile (Q1) from the third quartile (Q3):\n",
        "- Calculate the IQR: IQR = Q3 - Q1\n",
        "- Calculate the upper and lower fences: Upper fence = Q3 + 1.5 * IQR, Lower fence = Q1 - 1.5 * IQR\n"
      ],
      "metadata": {
        "id": "m4EsbHFm-MLN"
      }
    },
    {
      "cell_type": "markdown",
      "source": [
        "8.. Discuss the conditions under which the binomial distribution is used.\n",
        "- The binomial distribution is used to model probabilities when the following conditions are met:\n",
        "- Fixed number of trials: The number of trials is fixed and cannot be changed during the analysis.\n",
        "- Two possible outcomes: Each trial has only two possible outcomes, usually called \"success\" or \"failure\".\n",
        "Fixed probability of success: The probability of success is the same for each trial.\n",
        "- Independent trials: The outcome of one trial does not affect the outcome of any other trial.\n"
      ],
      "metadata": {
        "id": "r5BUZZrL-fzI"
      }
    },
    {
      "cell_type": "markdown",
      "source": [
        "9. Explain the properties of the normal distribution and the empirical rule (68-95-99.7 rule).\n",
        "- The empirical rule states that in a normal distribution, virtually all observed data will fall within three standard deviations of the mean. Under this rule, 68% of the data will fall within one standard deviation, 95% within two standard deviations, and 99.7% within three standard deviations from the mean"
      ],
      "metadata": {
        "id": "Rb459uA8-sP7"
      }
    },
    {
      "cell_type": "markdown",
      "source": [
        "10.0. Provide a real-life example of a Poisson process and calculate the probability for a specific event.\n",
        "-  Poisson distribution can be used to model the probability of a website receiving a certain number of visits in a day.\n",
        "-  For example, if a website receives 10 visits in one day, the Poisson distribution can calculate the probability of it receiving one or 100 visits in another day.\n",
        "- Phone calls\n",
        "The Poisson distribution can model the number of phone calls an office receives during a specific time period. For example, if an office receives an average of 4 calls per hour during the noon hour, the Poisson distribution can calculate the probability of receiving a certain number of calls during that time."
      ],
      "metadata": {
        "id": "ceahvU81--Op"
      }
    },
    {
      "cell_type": "markdown",
      "source": [
        "11. Explain what a random variable is and differentiate between discrete and continuous random variables.\n",
        "- A random variable is a function that assigns a numerical value to each outcome in a sample space. The main difference between discrete and continuous random variables is the range of values they can take on."
      ],
      "metadata": {
        "id": "KZ85T8Ni_SSO"
      }
    },
    {
      "cell_type": "markdown",
      "source": [
        "12.2. Provide an example dataset, calculate both covariance and correlation, and interpret the results.\n",
        "- Data: The relationship between outdoor temperature and ice cream consumption Covariance:\n",
        "-  The covariance for this data set is 35.89, which indicates that the two variables move in the same direction. As the temperature increases, so does the amount of ice cream eaten.\n",
        "- Correlation: To calculate the correlation, you can use the formula \\(r=Cov(x,y)/(\\sigma _{x}\\ast \\sigma _{y})\\).\n",
        "-  Covariance is a measure of how two variables tend to move together, while correlation measures the strength of the linear relationship between two variables. The correlation between two variables will always be between -1 and 1."
      ],
      "metadata": {
        "id": "LXbzMKBo_a3N"
      }
    }
  ]
}