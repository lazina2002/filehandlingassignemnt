{
  "nbformat": 4,
  "nbformat_minor": 0,
  "metadata": {
    "colab": {
      "provenance": []
    },
    "kernelspec": {
      "name": "python3",
      "display_name": "Python 3"
    },
    "language_info": {
      "name": "python"
    }
  },
  "cells": [
    {
      "cell_type": "markdown",
      "source": [
        "1.what is a parameter?\n",
        "- A parameter is a variable that is used to pass information into a function, method, or model. It acts as an input that influences the behavior or outcome of the function."
      ],
      "metadata": {
        "id": "6HPZcc2O3gc3"
      }
    },
    {
      "cell_type": "markdown",
      "source": [
        "2.what is correlation?\n",
        "- Correlation is a statistical measure that describes the relationship between two variables—how one variable changes in relation to another. It helps determine whether an increase in one variable is associated with an increase, decrease, or no change in another variable\n",
        "- A negative correlation means that as one variable increases, the other decreases (and vice versa). This is also called an inverse relationship."
      ],
      "metadata": {
        "id": "6sSAWaek310-"
      }
    },
    {
      "cell_type": "markdown",
      "source": [
        "3.define machine learning ?what are main components of machine learning?\n",
        "- Machine Learning (ML) is a branch of artificial intelligence (AI) that enables computers to learn patterns from data and make predictions or decisions without being explicitly programmed. It improves automatically through experience.\n",
        "- main component of machine learning?\n",
        "- Data :The foundation of ML; can be structured (tables, databases) or unstructured (text, images).\n",
        "Example: Customer purchase history, medical records.\n",
        "- Features (Independent Variables) 🔢\n",
        "\n",
        "Specific characteristics or inputs used for training the model.\n",
        "Example: In predicting house prices, features could be square footage, number of bedrooms, and location.\n",
        "- Model (Algorithm) 🏗️\n",
        "\n",
        "A mathematical function that learns from data and makes predictions.\n",
        "Examples: Linear Regression, Decision Trees, Neural Networks.\n",
        "- Training Process 🏋️‍♂️\n",
        "\n",
        "The phase where the model learns from historical data using optimization techniques.\n",
        "Example: Training a spam detection model using labeled emails (spam or not spam).\n",
        "- Loss Function & Optimization 🔄\n",
        "\n",
        "Measures how well the model’s predictions match actual values and adjusts to minimize errors.\n",
        "Example: Mean Squared Error (MSE) in regression problems.\n",
        "- Evaluation & Validation ✅\n",
        "\n",
        "Testing the model’s performance on unseen data to check accuracy and avoid overfitting.\n",
        "Metrics: Accuracy, Precision, Recall, F1-score.\n",
        "- Deployment & Monitoring 🚀\n",
        "\n",
        "Implementing the trained model in real-world applications and continuously monitoring its performance."
      ],
      "metadata": {
        "id": "1riG2atY5DgG"
      }
    },
    {
      "cell_type": "markdown",
      "source": [
        "4.How does loss value help in determining whether the model is good or not?\n",
        "- The loss value (or loss function) measures how well or poorly your model's predictions match the actual data. It quantifies the difference between predicted values and actual values.\n",
        "\n",
        "Lower loss: The model’s predictions are closer to actual values — indicating better performance.\n",
        "Higher loss: The model’s predictions are far from actual values — indicating poor performance."
      ],
      "metadata": {
        "id": "HZwHgRCs6Qus"
      }
    },
    {
      "cell_type": "markdown",
      "source": [
        "5.What are continuous and categorical variables?\n",
        "- 1. Continuous Variables\n",
        "A continuous variable can take an infinite number of numerical values within a given range. These values are measurable and can include decimals.\n",
        "\n",
        "Examples:\n",
        "\n",
        "Height (e.g., 5.3 ft, 5.8 ft)\n",
        "Weight (e.g., 60.5 kg, 81.2 kg)\n",
        "Temperature (e.g., 36.5°C, 98.7°F)\n",
        "Sales revenue (e.g., $10,234.56)\n",
        "- Characteristics of Continuous Variables:\n",
        "\n",
        "Can be measured but not counted.\n",
        "Can take fractional/decimal values.\n",
        "Often represented on a continuous scale (e.g., weight, height, time).\n",
        "- 2. Categorical Variables\n",
        "A categorical variable represents distinct groups or categories. These values are not numerical but instead belong to specific classes or labels.\n",
        "\n",
        "- Types of Categorical Variables:\n",
        "\n",
        "Nominal Variables (No specific order or ranking)\n",
        "Example: Colors (Red, Blue, Green), Gender (Male, Female, Other).\n",
        "Ordinal Variables (Have a meaningful order or ranking)\n",
        "- Example: Education Level (High School < Bachelor's < Master's < PhD), Customer Satisfaction (Low, Medium, High).\n",
        "Examples\tAge, Salary, Distance\tGender, Country, Product Type\n",
        "Arithmetic Ops\tPossible (Add, Subtract, etc.)\tNot possible\n",
        "Measurable?\tYes\tNo (only grouped)\n"
      ],
      "metadata": {
        "id": "dcOQON--6fBh"
      }
    },
    {
      "cell_type": "markdown",
      "source": [
        "6.How do we handle categorical variables in Machine Learning? What are the common t\n",
        "echniques?\n",
        "- Categorical variables must be converted into a numerical format before they can be used in machine learning models. There are several techniques to achieve this.\n",
        "\n",
        "Common Techniques for Handling Categorical Variables\n",
        "- 1. Label Encoding\n",
        "Assigns a unique numerical value to each category.\n",
        "Suitable for ordinal data (where order matters).\n",
        "Example:\n",
        "scss\n",
        "Copy\n",
        "Edit\n",
        "Low → 0, Medium → 1, High → 2\n",
        "Disadvantage: May introduce a false numerical relationship in non-ordinal data.\n",
        "- 2. One-Hot Encoding (OHE)\n",
        "Converts each category into a separate binary column (0 or 1).\n",
        "\n",
        "Suitable for nominal data (where order does not matter).\n",
        "\n",
        "Example:\n",
        "\n",
        "Color\tRed\tBlue\tGreen\n",
        "Red\t1\t0\t0\n",
        "Blue\t0\t1\t0\n",
        "Green\t0\t0\t1\n",
        "Disadvantage: Increases the number of features significantly if there are many categories (high-dimensionality issue).\n",
        "\n",
        "- 3. Ordinal Encoding\n",
        "Similar to label encoding but ensures the numerical values respect the natural order.\n",
        "Example (Education Level):\n",
        "python\n",
        "Copy\n",
        "Edit\n",
        "High School → 1, Bachelor's → 2, Master's → 3, PhD → 4\n",
        "- 4. Frequency Encoding\n",
        "Replaces categories with their frequency (count) in the dataset.\n",
        "Example: If \"Red\" appears 50 times, \"Blue\" appears 30 times, and \"Green\" appears 20 times:\n",
        "mathematica\n",
        "Copy\n",
        "Edit\n",
        "Red → 50, Blue → 30, Green → 20\n",
        "Disadvantage: Might not work well with small datasets.\n",
        "- 5. Target Encoding (Mean Encoding)\n",
        "Replaces categories with the mean of the target variable for each category.\n",
        "Used mostly in categorical features of supervised learning problems.\n",
        "Example: If predicting sales and the average sales for each city are:\n",
        "yaml\n",
        "Copy\n",
        "Edit\n",
        "City A → 1000, City B → 1500, City C → 1200\n",
        "Then \"City A\" will be replaced by 1000, \"City B\" by 1500, etc.\n",
        "Disadvantage: May lead to data leakage if not handled properly.\n",
        "- 6. Binary Encoding\n",
        "Converts categories into binary numbers and splits them into separate columns.\n",
        "\n",
        "Example (3 categories):\n",
        "\n",
        "Category\tBinary\tColumn 1\tColumn 2\n",
        "A\t01\t0\t1\n",
        "B\t10\t1\t0\n",
        "C\t11\t1\t1\n",
        "Advantage: Reduces dimensionality compared to One-Hot Encoding.\n",
        "\n",
        "\n",
        "\n",
        "\n",
        "\n",
        "\n",
        "\n"
      ],
      "metadata": {
        "id": "9AAyVWzZ7N7y"
      }
    },
    {
      "cell_type": "markdown",
      "source": [
        "7.what do you mean by testing and training in a dataset?\n",
        "- 1. Training Set\n",
        "The training set is the portion of data used to train the machine learning model.\n",
        "The model learns patterns, relationships, and structures from this data.\n",
        "Typically, 70-80% of the dataset is used for training.\n",
        "Example:\n",
        "If you are building a model to predict house prices, the training set will contain house features (e.g., size, location) along with their actual prices.\n",
        "\n",
        "- 2. Testing Set\n",
        "The testing set is the portion of data used to evaluate the model’s performance.\n",
        "It contains unseen data that helps measure accuracy and detect overfitting.\n",
        "Typically, 20-30% of the dataset is used for testing.\n",
        "Example:\n",
        "Once the model is trained, it will predict house prices on the test set. The predicted prices are then compared to the actual prices to check model accuracy.\n",
        "\n"
      ],
      "metadata": {
        "id": "NXdJAQZd7vrQ"
      }
    },
    {
      "cell_type": "markdown",
      "source": [
        "8.what is skelearn.preprocessing?\n",
        "- sklearn.preprocessing is a module in Scikit-Learn that provides various techniques to transform raw data into a suitable format for machine learning models. It includes functions for scaling, encoding, normalizing, and feature transformation.\n"
      ],
      "metadata": {
        "id": "Y4td4eUT8QCd"
      }
    },
    {
      "cell_type": "markdown",
      "source": [
        "9.what is a test data?\n",
        "- Test data is a subset of a dataset that is used to evaluate the performance of a trained machine learning model. It consists of unseen data that the model has never encountered before."
      ],
      "metadata": {
        "id": "wi6GrPWC8tU3"
      }
    },
    {
      "cell_type": "markdown",
      "source": [
        "10.How do we split data for model fitting (training and testing) in Python?\n",
        "How do you approach a Machine Learning problem?\n",
        "\n",
        "- In Scikit-Learn, the train_test_split() function is used to divide data into training and testing sets.\n",
        "- 1. Problem Definition\n",
        "Understand the business or real-world problem.\n",
        "- 2. Data Collection\n",
        "\n",
        "- 3. Exploratory Data Analysis\n",
        "- 4. Data Preprocessing\n",
        "- 5. Splitting Data\n",
        "- 6. Model Selection & Training\n",
        "\n",
        "- 7. Model Evaluation\n",
        "\n",
        "- 8. Hyperparameter Tuning\n",
        "\n",
        "- 9. Model Deployment\n",
        "\n",
        "- 10. Model Monitoring & Updating\n",
        "\n",
        "\n",
        "\n",
        "\n",
        "\n",
        "\n",
        "\n",
        "\n"
      ],
      "metadata": {
        "id": "gGOdJuBr87uo"
      }
    },
    {
      "cell_type": "markdown",
      "source": [
        "11.Why do we have to perform EDA before fitting a model to the data?\n",
        "- Exploratory Data Analysis (EDA) is a crucial step before training a machine learning model. It helps understand the dataset, detect issues, and prepare the data for better model performance"
      ],
      "metadata": {
        "id": "kv_aery5-HQ4"
      }
    },
    {
      "cell_type": "markdown",
      "source": [
        "12.what is correlation?\n",
        "- Correlation is a statistical measure that describes the relationship between two variables—how one variable changes in relation to another. It helps determine whether an increase in one variable is associated with an increase, decrease, or no change in another variable\n",
        "- A negative correlation means that as one variable increases, the other decreases (and vice versa). This is also called an inverse relationship."
      ],
      "metadata": {
        "id": "pVjP35yz-dbw"
      }
    },
    {
      "cell_type": "markdown",
      "source": [
        "13.what is a negative correlation means?\n",
        "- A negative correlation means that as one variable increases, the other decreases (and vice versa). This is also called an inverse relationship."
      ],
      "metadata": {
        "id": "Pgp1peha-lbk"
      }
    },
    {
      "cell_type": "markdown",
      "source": [
        "14. How can you find correlation between variables in Python?\n",
        "- In Python, correlation between variables can be measured using the Pandas and Seaborn libraries. The most common method is Pearson correlation, which measures the linear relationship between two variables."
      ],
      "metadata": {
        "id": "n3GXDxxJ-_wD"
      }
    },
    {
      "cell_type": "markdown",
      "source": [
        "15.What is causation? Explain difference between correlation and causation with an example.\n",
        "- Causation means that one event directly causes another. In other words, a change in one variable directly results in a change in another.\n",
        "- Definition\n",
        "\n",
        "Correlation: A statistical relationship between two variables.\n",
        "Causation: One variable directly influences another.\n",
        "Cause and Effect\n",
        "\n",
        "Correlation: No direct cause-effect relationship.\n",
        "Causation: One event causes the other to happen.\n",
        "Direction of Relationship\n",
        "\n",
        "- Correlation: Variables move together, but one does not necessarily cause the other.\n",
        "- Causation: A change in one variable directly results in a change in another.\n",
        "Mathematical Measurement\n",
        "\n",
        "- Correlation: Measured using correlation coefficient (\n",
        "𝑟\n",
        "r).\n",
        "- Causation: Proven through experiments and scientific studies.\n",
        "Example\n",
        "\n",
        "- Correlation: Ice cream sales and sunburns increase in summer.\n",
        "- Causation: Smoking causes lung cancer.\n",
        "Proof Requirement\n",
        "\n",
        "- Correlation: Observational data is enough.\n",
        "- Causation: Requires controlled experiments and strong evidence."
      ],
      "metadata": {
        "id": "72bTeWzU_LPw"
      }
    },
    {
      "cell_type": "markdown",
      "source": [
        "16.What is an Optimizer? What are different types of optimizers? Explain each with an example.\n",
        "- An optimizer is an algorithm used to adjust the parameters (weights & biases) of a model to minimize the loss function and improve accuracy. It helps the model learn patterns efficiently by updating weights during training.\n",
        "\n"
      ],
      "metadata": {
        "id": "v3x17tgzAFYW"
      }
    },
    {
      "cell_type": "markdown",
      "source": [
        "17.What is sklearn.linear_model ?\n",
        "- sklearn.linear_model is a module in Scikit-Learn that provides linear models for regression and classification tasks. It contains various algorithms for modeling relationships between dependent and independent variables."
      ],
      "metadata": {
        "id": "nsrY74YrA0tE"
      }
    },
    {
      "cell_type": "markdown",
      "source": [
        "18.What does model.fit() do? What arguments must be given?\n",
        "- The fit() function in Scikit-Learn is used to train a machine learning model on a dataset. It learns the relationship between the input features (X) and the target variable (y).\n",
        "\n",
        "🔹 Steps Performed by model.fit():\n",
        "\n",
        "Takes input data (X) and target labels (y).\n",
        "Computes parameters (e.g., coefficients in Linear Regression).\n",
        "Optimizes the model by minimizing the loss function.\n",
        "Stores the learned parameters for making predictions.\n"
      ],
      "metadata": {
        "id": "jmPlw0XZA9eB"
      }
    },
    {
      "cell_type": "markdown",
      "source": [
        "19.What does model.predict() do? What arguments must be given?\n",
        "- The predict() function in Scikit-Learn is used to make predictions using a trained model. After training a model with fit(), predict() takes new input data (X) and returns the predicted outputs (y_pred)"
      ],
      "metadata": {
        "id": "WBTc7n6gBIvj"
      }
    },
    {
      "cell_type": "markdown",
      "source": [
        "20.What are continuous and categorical variables?\n",
        "- 5.What are continuous and categorical variables?\n",
        "- 1. Continuous Variables\n",
        "A continuous variable can take an infinite number of numerical values within a given range. These values are measurable and can include decimals.\n",
        "\n",
        "Examples:\n",
        "\n",
        "Height (e.g., 5.3 ft, 5.8 ft)\n",
        "Weight (e.g., 60.5 kg, 81.2 kg)\n",
        "Temperature (e.g., 36.5°C, 98.7°F)\n",
        "Sales revenue (e.g., $10,234.56)\n",
        "- Characteristics of Continuous Variables:\n",
        "\n",
        "Can be measured but not counted.\n",
        "Can take fractional/decimal values.\n",
        "Often represented on a continuous scale (e.g., weight, height, time).\n",
        "- 2. Categorical Variables\n",
        "A categorical variable represents distinct groups or categories. These values are not numerical but instead belong to specific classes or labels.\n",
        "\n",
        "- Types of Categorical Variables:\n",
        "\n",
        "Nominal Variables (No specific order or ranking)\n",
        "Example: Colors (Red, Blue, Green), Gender (Male, Female, Other).\n",
        "Ordinal Variables (Have a meaningful order or ranking)\n",
        "- Example: Education Level (High School < Bachelor's < Master's < PhD), Customer Satisfaction (Low, Medium, High).\n",
        "Examples\tAge, Salary, Distance\tGender, Country, Product Type\n",
        "Arithmetic Ops\tPossible (Add, Subtract, etc.)\tNot possible\n",
        "Measurable?\tYes\tNo (only grouped)\n"
      ],
      "metadata": {
        "id": "YPIZnL-DBTV4"
      }
    },
    {
      "cell_type": "markdown",
      "source": [
        "21.What is feature scaling? How does it help in Machine Learning?\n",
        "- Feature scaling is a preprocessing technique used in machine learning to normalize or standardize numerical data so that different features have a similar scale. It ensures that large-scale values don’t dominate smaller ones, improving model performance and stability"
      ],
      "metadata": {
        "id": "939qQ3tQBjf-"
      }
    },
    {
      "cell_type": "markdown",
      "source": [
        "22.How do we perform scaling in Python?\n",
        "- Feature scaling in Python can be done using Scikit-Learn’s preprocessing module. The most common techniques are Min-Max Scaling, Standardization (Z-score), and Robust Scaling.\n",
        "\n"
      ],
      "metadata": {
        "id": "IgGzM70lBwtq"
      }
    },
    {
      "cell_type": "markdown",
      "source": [
        "23.what is skelearn.preprocessing?\n",
        "- sklearn.preprocessing is a module in Scikit-Learn that provides various techniques to transform raw data into a suitable format for machine learning models. It includes functions for scaling, encoding, normalizing, and feature transformation.\n"
      ],
      "metadata": {
        "id": "PYwoQ0-DCqT2"
      }
    },
    {
      "cell_type": "markdown",
      "source": [
        "24.How do we split data for model fitting (training and testing) in Python?\n",
        "How do you approach a Machine Learning problem?\n",
        "\n",
        "- In Scikit-Learn, the train_test_split() function is used to divide data into training and testing sets.\n",
        "- 1. Problem Definition\n",
        "Understand the business or real-world problem.\n",
        "- 2. Data Collection\n",
        "\n",
        "- 3. Exploratory Data Analysis\n",
        "- 4. Data Preprocessing\n",
        "- 5. Splitting Data\n",
        "- 6. Model Selection & Training\n",
        "\n",
        "- 7. Model Evaluation\n",
        "\n",
        "- 8. Hyperparameter Tuning\n",
        "\n",
        "- 9. Model Deployment\n",
        "\n",
        "- 10. Model Monitoring & Updating"
      ],
      "metadata": {
        "id": "Ii2Xbg49C1bG"
      }
    },
    {
      "cell_type": "markdown",
      "source": [
        "25.explain data encoding?\n",
        "-  Data encoding is the process of converting categorical data (text or labels) into a numerical format so that machine learning models can process it. Most ML algorithms work with numerical data, so encoding is essential for handling categorical variables."
      ],
      "metadata": {
        "id": "KuvfSNN3DA2N"
      }
    }
  ]
}