{
  "nbformat": 4,
  "nbformat_minor": 0,
  "metadata": {
    "colab": {
      "provenance": []
    },
    "kernelspec": {
      "name": "python3",
      "display_name": "Python 3"
    },
    "language_info": {
      "name": "python"
    }
  },
  "cells": [
    {
      "cell_type": "markdown",
      "source": [
        "THEORY QUESTIONS"
      ],
      "metadata": {
        "id": "HneV1NyS0UXC"
      }
    },
    {
      "cell_type": "markdown",
      "source": [
        "1.What is the difference between interpreted and compiled languages?\n",
        "- The difference between interpreted and compiled languages is how the source code is converted to run on a computer:\n",
        "Compiled languages\n",
        "The source code is translated into machine code before the program runs. This results in efficient code that can be executed multiple times.\n",
        "Interpreted languages\n",
        "The source code is interpreted line-by-line as the program runs. This means the program must be parsed, interpreted, and executed each time it runs"
      ],
      "metadata": {
        "id": "Lp95OgsR0kHO"
      }
    },
    {
      "cell_type": "markdown",
      "source": [
        "2.what is exception handling in python?\n",
        "- Exceptions are errors that occur at runtime when the program is being executed. They are usually caused by invalid user input or code that is invalid in Python. Exception handling allows the program to continue to execute even if an error occurs"
      ],
      "metadata": {
        "id": "hKtLtg32HfGV"
      }
    },
    {
      "cell_type": "markdown",
      "source": [
        "3.what is the purpose of finally block in exception handling.\n",
        "- In Python, the finally block is used in exception handling to execute code that should run regardless of whether an exception occurs:\n",
        "Purpose: The finally block is used for cleanup tasks and releasing resources, such as closing files.\n",
        "Execution: The finally block is always executed, after the try, except, and else blocks, and before the program continues from the next statement.\n",
        "Example: Here's an example of a try...except block with a finally block."
      ],
      "metadata": {
        "id": "jX1AG4LnHq3i"
      }
    },
    {
      "cell_type": "markdown",
      "source": [
        "4.what is logging in python?\n",
        "- Python logging is a module that allows you to track events that occur while your program is running. You can use logging to record information about errors, warnings, and other events that occur during program execution. And logging is a useful tool for debugging, troubleshooting, and monitoring your program."
      ],
      "metadata": {
        "id": "Iy5qYZPSIwJY"
      }
    },
    {
      "cell_type": "markdown",
      "source": [
        "5.what is the significance of __del__ in python?\n",
        "= In Python, the __del__() method is referred to as a destructor method. It is called after an object's garbage collection occurs, which happens after all references to the item have been destroyed."
      ],
      "metadata": {
        "id": "462nAd2fI_UI"
      }
    },
    {
      "cell_type": "markdown",
      "source": [
        "6.what is the differnce between import and from.. impport in python\n",
        "- The difference between import and from import in Python is: import imports an entire code library. from import imports a specific member or members of the library."
      ],
      "metadata": {
        "id": "07LaFE7kJQiX"
      }
    },
    {
      "cell_type": "markdown",
      "source": [
        "7.how can u handle mutliple exception in python?\n",
        "- To handle exceptions in Python, you can use the try and except block, which is the most basic method:\n",
        "Try: Run the code under the try statement.\n",
        "Except: When an exception is raised, execute the code under the except statement."
      ],
      "metadata": {
        "id": "OjKykvmRJqMn"
      }
    },
    {
      "cell_type": "markdown",
      "source": [
        "8.7F What is the purpose of the with statement when handling files in Python0\n",
        "- The with statement in Python is used to manage resources, such as files, when handling files in Python, it ensures that resources are closed after processing them. This makes the code cleaner, more readable, and efficient in managing resources."
      ],
      "metadata": {
        "id": "acJHUqY-LGLL"
      }
    },
    {
      "cell_type": "markdown",
      "source": [
        " 9. What is the difference between multithreading and multiprocessing?\n",
        " - Multithreading\n",
        "Uses a single processor to run multiple threads concurrently, each running a process. Multithreading is a form of multitasking that uses a single process with multiple code segments to increase computing power. Multithreading is quick to create and requires few resources.\n",
        "Multiprocessing\n",
        "Uses multiple processors to run multiple processes in parallel, where each processor can run one or more threads. Multiprocessing is used to create a more reliable system. Multiprocessing requires a significant amount of time and specific resources to create."
      ],
      "metadata": {
        "id": "PCeS6QN3LN1S"
      }
    },
    {
      "cell_type": "markdown",
      "source": [
        "10.What are the advantages of using logging in a program?\n",
        "- Debugging\n",
        "Logging is a valuable tool for debugging issues that arise in a program. In a production environment, log files are often the only source of information for debugging unexpected errors."
      ],
      "metadata": {
        "id": "1JXkxgu2LfC4"
      }
    },
    {
      "cell_type": "markdown",
      "source": [
        "11.what is memory manangement in python?\n",
        "- Memory management in Python involves a private heap containing all Python objects and data structures. The management of this private heap is ensured internally by the Python memory manager."
      ],
      "metadata": {
        "id": "ht2b_dOYLvnL"
      }
    },
    {
      "cell_type": "markdown",
      "source": [
        "12. What are the basic steps involved in exception handling in Python?\n",
        "- The basic steps for exception handling in Python are to use the try and except blocks:\n",
        "Use the try block: This contains the code that may have errors.\n",
        "Use the except block: This is where the program jumps if an exception occurs in the try block. You can specify the type of exception you want to catch"
      ],
      "metadata": {
        "id": "ou9_JE8IMI8Z"
      }
    },
    {
      "cell_type": "markdown",
      "source": [
        "13.why memory management is important in python?\n",
        "- Memory management in Python is important because it helps ensure that memory is used efficiently, which can lead to faster processing times and less demand on other system resources"
      ],
      "metadata": {
        "id": "5Z51WiWqMSeo"
      }
    },
    {
      "cell_type": "markdown",
      "source": [
        "14 What is the role of try and except in exception handling?\n",
        "- In Python, the try and except statements are used to handle exceptions and catch errors:\n",
        "Try\n",
        "The try block is used to test code for errors. The code in the try block is executed first.\n",
        "Except\n",
        "The except block is used to handle exceptions that occur in the try block. The code in the except block is executed if an exception is raised."
      ],
      "metadata": {
        "id": "Nv0129sqMnpj"
      }
    },
    {
      "cell_type": "markdown",
      "source": [
        "15.F How does Python's garbage collection system work?\n",
        "- Python's garbage collection system uses a combination of reference counting and generational garbage collection to automatically manage memory:"
      ],
      "metadata": {
        "id": "yYQiPXZJM7BX"
      }
    },
    {
      "cell_type": "markdown",
      "source": [
        "16.F What is the purpose of the else block in exception handling?\n",
        "- the try block lets you test a block of code for errors. The except block lets you handle the error. The else block lets you execute code when there is no error. The finally block lets you execute code, regardless of the result of the try- and except blocks."
      ],
      "metadata": {
        "id": "j4lbrLkINGuM"
      }
    },
    {
      "cell_type": "markdown",
      "source": [
        "17. What are the common logging levels in Python?\n",
        "- Python's logging module has six standard logging levels that indicate the seriousness of an event:\n",
        "Notset: The initial default setting of a log\n",
        "Debug: The least threatening level, with detailed information for diagnosing issues\n",
        "Info: Confirmation that the application is functioning as expected\n",
        "Warning: A sign that something unexpected occurred or a potential problem might arise soon\n",
        "Error: Indicates a significant issue that has prevented certain functions from executing\n",
        "Critical: A severe error suggesting that the program may be unable to continue running"
      ],
      "metadata": {
        "id": "PFA0SOZQNS1R"
      }
    },
    {
      "cell_type": "markdown",
      "source": [
        "18.What is the difference between os.fork() and multiprocessing in Python?\n",
        "- The fork method is only supported on POSIX-based systems like Linux and macOS (not Windows), whereas the spawn start method is supported on all platforms. A major difference between the two start methods is speed. It is generally considered that forking a process is faster than spawning a process."
      ],
      "metadata": {
        "id": "BZ8HroglOPYp"
      }
    },
    {
      "cell_type": "markdown",
      "source": [
        "19.What is the importance of closing a file in Python?\n",
        "- Because files are limited resources managed by the operating system, making sure files are closed after use will protect against hard-to-debug issues like running out of file handles or experiencing corrupted data."
      ],
      "metadata": {
        "id": "NiO3TGWvOfGu"
      }
    },
    {
      "cell_type": "markdown",
      "source": [
        "20. What is the difference between file.read() and file.readline() in Python?\n",
        "- The main difference between file.read() and file.readline() in Python is that file.read() reads the entire file as a single string, while file.readline() reads a single line at a time:"
      ],
      "metadata": {
        "id": "QL-YeWjmOuJU"
      }
    },
    {
      "cell_type": "markdown",
      "source": [
        "21.What is the logging module in Python used for?\n",
        "- Python logging is a module that allows you to track events that occur while your program is running. You can use logging to record information about errors, warnings, and other events that occur during program execution. And logging is a useful tool for debugging, troubleshooting, and monitoring your program"
      ],
      "metadata": {
        "id": "08hANcAKO3YB"
      }
    },
    {
      "cell_type": "markdown",
      "source": [
        "22.F What is the os module in Python used for in file handling?\n",
        "- The os module in Python is used to perform file-related tasks, such as:\n",
        "   - Navigating the file system\n",
        "   - Obtaining file information\n",
        "   - Renaming files\n",
        "   - Searching directory trees\n",
        "   - Creating and deleting folders\n",
        "   - Listing files and folders"
      ],
      "metadata": {
        "id": "RIXRdMKrO_r_"
      }
    },
    {
      "cell_type": "markdown",
      "source": [
        "23.What are the challenges associated with memory management in Python?\n",
        "- Some challenges with memory management in Python include:\n",
        "  - slower program runtimes: Python's memory management may not free up memory for the operating system, which can slow down program runtimes.\n",
        "  - Memory exhaustion: Without proper garbage collection, unused memory can accumulate over time, leading to memory exhaustion.\n",
        "  - Inefficient memory usage: Inefficient memory use can hinder a program's performance."
      ],
      "metadata": {
        "id": "iUou-zwfPIPv"
      }
    },
    {
      "cell_type": "markdown",
      "source": [
        "24. How do you raise an exception manually in Python?\n",
        "- To manually raise an exception in Python, you can use the raise keyword. This keyword allows you to throw an exception with a custom error message. In our example, we define a function called divide() that takes two numbers as arguments and divides them"
      ],
      "metadata": {
        "id": "ik6gJpo7PpEu"
      }
    },
    {
      "cell_type": "markdown",
      "source": [
        "25.F Why is it important to use multithreading in certain applications?\n",
        "- Multithreading makes multitasking possible when it breaks programs into smaller, executable threads. Each thread has the programming elements needed to execute the main program, and the computer executes each thread one at a time."
      ],
      "metadata": {
        "id": "xR9qPA1dPyRy"
      }
    },
    {
      "cell_type": "code",
      "source": [
        "#How can you open a file for writing in Python and write a string to it\n",
        "try:\n",
        "    file = open(\"example.txt\", \"w\")\n",
        "    file.write(\"Hello, world!\")\n",
        "    file.close()\n",
        "except FileNotFoundError:\n",
        "    print(\"File not found.\")\n",
        "except PermissionError:\n",
        "    print(\"Permission denied.\")\n"
      ],
      "metadata": {
        "id": "_NvVXqLtP6hM"
      },
      "execution_count": 28,
      "outputs": []
    },
    {
      "cell_type": "code",
      "source": [
        "#Write a Python program to read the contents of a file and print each line\n",
        "try:\n",
        "    file = open(\"example.txt\", \"r\")\n",
        "    for line in file:\n",
        "        print(line)\n",
        "    file.close()\n",
        "except FileNotFoundError:\n",
        "    print(\"File not found.\")\n",
        "except PermissionError:\n",
        "    print(\"Permission denied.\")\n"
      ],
      "metadata": {
        "colab": {
          "base_uri": "https://localhost:8080/"
        },
        "id": "A7TeSaFSQOcP",
        "outputId": "8ede2c88-8f04-489e-c776-4e8eb9cbd620"
      },
      "execution_count": 29,
      "outputs": [
        {
          "output_type": "stream",
          "name": "stdout",
          "text": [
            "Hello, world!\n"
          ]
        }
      ]
    },
    {
      "cell_type": "code",
      "source": [
        "#3.How would you handle a case where the file doesn't exist while trying to open it for readingtry:\n",
        "try:\n",
        "    file = open(\"nonexistent.txt\", \"r\")\n",
        "    content = file.read()\n",
        "    file.close()\n",
        "except FileNotFoundError:\n",
        "    print(\"The file 'nonexistent.txt' does not exist.\")\n"
      ],
      "metadata": {
        "id": "7Pu0Lx2gQTIl",
        "colab": {
          "base_uri": "https://localhost:8080/"
        },
        "outputId": "45c2b326-e7e4-4ac9-a23d-dc39b4f56d98"
      },
      "execution_count": 32,
      "outputs": [
        {
          "output_type": "stream",
          "name": "stdout",
          "text": [
            "The file 'nonexistent.txt' does not exist.\n"
          ]
        }
      ]
    },
    {
      "cell_type": "code",
      "source": [
        "#4.Write a Python script that reads from one file and writes its content to another file\n",
        "try:\n",
        "    with open(\"myfile.txt\", \"r\") as source_file:\n",
        "        content = source_file.read()\n",
        "    with open(\"newfile.txt\", \"w\") as target_file:\n",
        "        target_file.write(content)\n",
        "        print(\"File copied successfully.\")\n",
        "except FileNotFoundError:\n",
        "    print(\"The source file 'myfile.txt' does not exist.\")\n",
        "except Exception as e:\n",
        "    print(f\"An error occurred: {e}\")\n",
        ""
      ],
      "metadata": {
        "id": "QnIFuQcrRJK5",
        "colab": {
          "base_uri": "https://localhost:8080/"
        },
        "outputId": "74d33be3-f1aa-4f44-d70d-506c053a1829"
      },
      "execution_count": 2,
      "outputs": [
        {
          "output_type": "stream",
          "name": "stdout",
          "text": [
            "The source file 'myfile.txt' does not exist.\n"
          ]
        }
      ]
    },
    {
      "cell_type": "code",
      "source": [
        "#5.F How would you catch and handle division by zero error in Python\n",
        "try:\n",
        "    numerator = 10\n",
        "    denominator = 0\n",
        "    result = numerator / denominator\n",
        "except ZeroDivisionError:\n",
        "    print(\"Error: Division by zero is not allowed.\")\n"
      ],
      "metadata": {
        "colab": {
          "base_uri": "https://localhost:8080/"
        },
        "id": "TsNydE147hVX",
        "outputId": "9c3da1a1-849a-4928-e13f-a8ccd5d4f197"
      },
      "execution_count": 3,
      "outputs": [
        {
          "output_type": "stream",
          "name": "stdout",
          "text": [
            "Error: Division by zero is not allowed.\n"
          ]
        }
      ]
    },
    {
      "cell_type": "code",
      "source": [
        "#6.Write a Python program that logs an error message to a log file when a division by zero exception occurs\n",
        "import logging\n",
        "\n",
        "# Configure the logging\n",
        "logging.basicConfig(filename='error.log', level=logging.ERROR)\n",
        "\n",
        "try:\n",
        "    numerator = 10\n",
        "    denominator = 0\n",
        "    result = numerator / denominator\n",
        "except ZeroDivisionError as e:\n",
        "    # Log the error message\n",
        "    logging.error(f\"Division by zero error: {e}\")\n",
        "    print(\"Error: Division by zero is not allowed.\")\n"
      ],
      "metadata": {
        "colab": {
          "base_uri": "https://localhost:8080/"
        },
        "id": "yNdQPssE7z8N",
        "outputId": "bfd4fdce-f769-4643-b565-5840dc0f8a39"
      },
      "execution_count": 4,
      "outputs": [
        {
          "output_type": "stream",
          "name": "stderr",
          "text": [
            "ERROR:root:Division by zero error: division by zero\n"
          ]
        },
        {
          "output_type": "stream",
          "name": "stdout",
          "text": [
            "Error: Division by zero is not allowed.\n"
          ]
        }
      ]
    },
    {
      "cell_type": "code",
      "source": [
        "#7. How do you log information at different levels (INFO, ERROR, WARNING) in Python using the logging module\n",
        "import logging\n",
        "\n",
        "# Configure the logging\n",
        "logging.basicConfig(filename='log.txt', level=logging.INFO)\n",
        "\n",
        "# Log different levels of information\n",
        "logging.info(\"This is an informational message.\")\n",
        "logging.warning(\"This is a warning message.\")\n",
        "logging.error(\"This is an error message.\")\n"
      ],
      "metadata": {
        "colab": {
          "base_uri": "https://localhost:8080/"
        },
        "id": "pgmVEJEH79AA",
        "outputId": "5b069329-e04e-4eae-f69b-b27e7317a03b"
      },
      "execution_count": 6,
      "outputs": [
        {
          "output_type": "stream",
          "name": "stderr",
          "text": [
            "WARNING:root:This is a warning message.\n",
            "ERROR:root:This is an error message.\n"
          ]
        }
      ]
    },
    {
      "cell_type": "code",
      "source": [
        "#8.Write a program to handle a file opening error using exception handling\n",
        "try:\n",
        "    with open(\"myfile.txt\", \"r\") as file:\n",
        "        # Perform operations on the file\n",
        "        content = file.read()\n",
        "        print(content)\n",
        "except FileNotFoundError:\n",
        "    print(\"The file 'myfile.txt' does not exist.\")\n",
        "\n",
        "\n"
      ],
      "metadata": {
        "colab": {
          "base_uri": "https://localhost:8080/"
        },
        "id": "rRInn5Vz8dex",
        "outputId": "3081b694-363b-4ccc-df40-eb1bd884c188"
      },
      "execution_count": 8,
      "outputs": [
        {
          "output_type": "stream",
          "name": "stdout",
          "text": [
            "The file 'myfile.txt' does not exist.\n"
          ]
        }
      ]
    },
    {
      "cell_type": "code",
      "source": [
        "#9. How can you read a file line by line and store its content in a list in Python\n",
        "try:\n",
        "    with open(\"myfile.txt\", \"r\") as file:\n",
        "        lines = file.readlines()\n",
        "        for line in lines:\n",
        "            print(line)\n",
        "except FileNotFoundError:\n",
        "    print(\"The file 'myfile.txt' does not exist.\")\n"
      ],
      "metadata": {
        "colab": {
          "base_uri": "https://localhost:8080/"
        },
        "id": "Y0-iZzxq8lA8",
        "outputId": "01d1c329-87eb-4a06-c385-6d6c4b254502"
      },
      "execution_count": 9,
      "outputs": [
        {
          "output_type": "stream",
          "name": "stdout",
          "text": [
            "The file 'myfile.txt' does not exist.\n"
          ]
        }
      ]
    },
    {
      "cell_type": "code",
      "source": [
        "#10.How can you append data to an existing file in Python\n",
        "try:\n",
        "    with open(\"myfile.txt\", \"a\") as file:\n",
        "        file.write(\"This is a new line.\\n\")\n",
        "        print(\"Data appended successfully.\")\n",
        "except FileNotFoundError:\n",
        "    print(\"The file 'myfile.txt' does not exist.\")\n"
      ],
      "metadata": {
        "colab": {
          "base_uri": "https://localhost:8080/"
        },
        "id": "74tcSemb8uTI",
        "outputId": "bc24fcc4-c351-4635-84e5-5e83885c04fe"
      },
      "execution_count": 10,
      "outputs": [
        {
          "output_type": "stream",
          "name": "stdout",
          "text": [
            "Data appended successfully.\n"
          ]
        }
      ]
    },
    {
      "cell_type": "code",
      "source": [
        "#11.Write a Python program that uses a try-except block to handle an error when attempting to access a\n",
        "#dictionary key that doesn't exist\n",
        "try:\n",
        "    my_dict = {\"name\": \"John\", \"age\": 25}\n",
        "    value = my_dict[\"city\"]\n",
        "except KeyError:\n",
        "    print(\"Error: The key 'city' does not exist in the dictionary.\")\n",
        "\n"
      ],
      "metadata": {
        "colab": {
          "base_uri": "https://localhost:8080/"
        },
        "id": "94hcpXTq80IS",
        "outputId": "0c788f70-15e1-43f7-a929-9144aed34df6"
      },
      "execution_count": 11,
      "outputs": [
        {
          "output_type": "stream",
          "name": "stdout",
          "text": [
            "Error: The key 'city' does not exist in the dictionary.\n"
          ]
        }
      ]
    },
    {
      "cell_type": "code",
      "source": [
        "#12.Write a program that demonstrates using multiple except blocks to handle different types of exceptions\n",
        "try:\n",
        "    numerator = 10\n",
        "    denominator = 0\n",
        "    result = numerator / denominator\n",
        "except ZeroDivisionError:\n",
        "    print(\"Error: Division by zero is not allowed.\")\n",
        "except TypeError:\n",
        "    print(\"Error: Invalid data types.\")\n"
      ],
      "metadata": {
        "colab": {
          "base_uri": "https://localhost:8080/"
        },
        "id": "u1rv7HWy9A9A",
        "outputId": "38fda773-9f6b-4194-e69f-b569d0989fea"
      },
      "execution_count": 13,
      "outputs": [
        {
          "output_type": "stream",
          "name": "stdout",
          "text": [
            "Error: Division by zero is not allowed.\n"
          ]
        }
      ]
    },
    {
      "cell_type": "code",
      "source": [
        "#13. How would you check if a file exists before attempting to read it in Python\n",
        "try:\n",
        "    import os\n",
        "    if os.path.exists(\"myfile.txt\"):\n",
        "        with open(\"myfile.txt\", \"r\") as file:\n",
        "            content = file.read()\n",
        "            print(content)\n",
        "\n",
        "except FileNotFoundError:\n",
        "    print(\"The file 'myfile.txt' does not exist.\")"
      ],
      "metadata": {
        "colab": {
          "base_uri": "https://localhost:8080/"
        },
        "id": "qSoGjSOF9LDA",
        "outputId": "2f27e237-5e3b-4006-814b-9792be61377c"
      },
      "execution_count": 33,
      "outputs": [
        {
          "output_type": "stream",
          "name": "stdout",
          "text": [
            "This is a new line.\n",
            "\n"
          ]
        }
      ]
    },
    {
      "cell_type": "code",
      "source": [
        "#14.Write a program that uses the logging module to log both informational and error messages\n",
        "import logging\n",
        "\n",
        "# Configure the logging\n",
        "logging.basicConfig(filename='log.txt', level=logging.INFO)\n",
        "\n",
        "# Log informational messages\n",
        "logging.info(\"This is an informational message.\")\n",
        "\n",
        "# Log error messages\n",
        "logging.error(\"This is an error message.\")\n"
      ],
      "metadata": {
        "colab": {
          "base_uri": "https://localhost:8080/"
        },
        "id": "z6FgwsJ69e7b",
        "outputId": "c7c71739-ba70-4e37-b940-94f502ff5a85"
      },
      "execution_count": 15,
      "outputs": [
        {
          "output_type": "stream",
          "name": "stderr",
          "text": [
            "ERROR:root:This is an error message.\n"
          ]
        }
      ]
    },
    {
      "cell_type": "code",
      "source": [
        "#15.Write a Python program that prints the content of a file and handles the case when the file is empty\n",
        "try:\n",
        "    with open(\"myfile.txt\", \"r\") as file:\n",
        "        content = file.read()\n",
        "        if content:\n",
        "            print(content)\n",
        "        else:\n",
        "            print(\"The file is empty.\")\n",
        "\n",
        "except FileNotFoundError:\n",
        "    print(\"The file 'myfile.txt' does not exist.\")\n"
      ],
      "metadata": {
        "colab": {
          "base_uri": "https://localhost:8080/"
        },
        "id": "HVyYW4JW9noW",
        "outputId": "fa6bb88f-8958-4e14-8203-91099de7bcea"
      },
      "execution_count": 17,
      "outputs": [
        {
          "output_type": "stream",
          "name": "stdout",
          "text": [
            "This is a new line.\n",
            "\n"
          ]
        }
      ]
    },
    {
      "cell_type": "code",
      "source": [
        "#16. Demonstrate how to use memory profiling to check the memory usage of a small program\n",
        "!pip install memory_profiler\n",
        "from memory_profiler import profile\n",
        "@profile\n",
        "def my_function():\n",
        "    # Perform some operations\n",
        "    list1 = [1, 2, 3, 4, 5]\n",
        "    list2 = [6, 7, 8, 9, 10]\n",
        "    result = []\n",
        "    for i in range(len(list1)):\n",
        "        result.append(list1[i] + list2[i])\n",
        "    return result\n",
        "my_function()\n"
      ],
      "metadata": {
        "colab": {
          "base_uri": "https://localhost:8080/"
        },
        "id": "lBxpQidg969T",
        "outputId": "bf7743b6-9cb8-4a65-b1af-501dddc79e26"
      },
      "execution_count": 37,
      "outputs": [
        {
          "output_type": "stream",
          "name": "stdout",
          "text": [
            "Collecting memory_profiler\n",
            "  Downloading memory_profiler-0.61.0-py3-none-any.whl.metadata (20 kB)\n",
            "Requirement already satisfied: psutil in /usr/local/lib/python3.10/dist-packages (from memory_profiler) (5.9.5)\n",
            "Downloading memory_profiler-0.61.0-py3-none-any.whl (31 kB)\n",
            "Installing collected packages: memory_profiler\n",
            "Successfully installed memory_profiler-0.61.0\n"
          ]
        },
        {
          "output_type": "stream",
          "name": "stderr",
          "text": [
            "\n",
            "PYDEV DEBUGGER WARNING:\n",
            "sys.settrace() should not be used when the debugger is being used.\n",
            "This may cause the debugger to stop working correctly.\n",
            "If this is needed, please check: \n",
            "http://pydev.blogspot.com/2007/06/why-cant-pydev-debugger-work-with.html\n",
            "to see how to restore the debug tracing back correctly.\n",
            "Call Location:\n",
            "  File \"/usr/local/lib/python3.10/dist-packages/memory_profiler.py\", line 847, in enable\n",
            "    sys.settrace(self.trace_memory_usage)\n",
            "\n",
            "\n",
            "PYDEV DEBUGGER WARNING:\n",
            "sys.settrace() should not be used when the debugger is being used.\n",
            "This may cause the debugger to stop working correctly.\n",
            "If this is needed, please check: \n",
            "http://pydev.blogspot.com/2007/06/why-cant-pydev-debugger-work-with.html\n",
            "to see how to restore the debug tracing back correctly.\n",
            "Call Location:\n",
            "  File \"/usr/local/lib/python3.10/dist-packages/memory_profiler.py\", line 850, in disable\n",
            "    sys.settrace(self._original_trace_function)\n",
            "\n"
          ]
        },
        {
          "output_type": "stream",
          "name": "stdout",
          "text": [
            "ERROR: Could not find file <ipython-input-37-12e2ddc7ef43>\n",
            "NOTE: %mprun can only be used on functions defined in physical files, and not in the IPython environment.\n"
          ]
        },
        {
          "output_type": "execute_result",
          "data": {
            "text/plain": [
              "[7, 9, 11, 13, 15]"
            ]
          },
          "metadata": {},
          "execution_count": 37
        }
      ]
    },
    {
      "cell_type": "code",
      "source": [
        "#17.Write a Python program to create and write a list of numbers to a file, one number per line\n",
        "list_of_numbers = [1, 2, 3, 4, 5]\n",
        "\n",
        "# Open a file in write mode\n",
        "with open(\"numbers.txt\", \"w\") as file:\n",
        "    # Write each number to a new line in the file\n",
        "    for number in list_of_numbers:\n",
        "        file.write(str(number) + \"\\n\")\n",
        "\n"
      ],
      "metadata": {
        "id": "YJ9d7oJT-dGm"
      },
      "execution_count": 19,
      "outputs": []
    },
    {
      "cell_type": "code",
      "source": [
        "#18.How would you implement a basic logging setup that logs to a file with rotation after 1MB\u001f\n",
        "import logging\n",
        "from logging.handlers import RotatingFileHandler\n",
        "logger = logging.getLogger(__name__)\n",
        "logger.setLevel(logging.INFO)\n",
        "handler = RotatingFileHandler(\"app.log\", maxBytes=1000000, backupCount=5)\n",
        "formatter = logging.Formatter(\"%(asctime)s - %(levelname)s - %(message)s\")\n",
        "handler.setFormatter(formatter)\n",
        "logger.addHandler(handler)\n",
        "logger.info(\"This is an informational message.\")\n",
        "\n"
      ],
      "metadata": {
        "colab": {
          "base_uri": "https://localhost:8080/"
        },
        "id": "s7COn5FX_J-Y",
        "outputId": "53dae613-b19e-4c33-8d39-b04152bddb67"
      },
      "execution_count": 20,
      "outputs": [
        {
          "output_type": "stream",
          "name": "stderr",
          "text": [
            "INFO:__main__:This is an informational message.\n"
          ]
        }
      ]
    },
    {
      "cell_type": "code",
      "source": [
        "#19. Write a program that handles both IndexError and KeyError using a try-except block\n",
        "try:\n",
        "    my_dict = {\"name\": \"John\", \"age\": 25}\n",
        "    value = my_dict[\"city\"]\n",
        "except KeyError:\n",
        "    print(\"Error: The key 'city' does not exist in the dictionary.\")\n",
        ""
      ],
      "metadata": {
        "colab": {
          "base_uri": "https://localhost:8080/"
        },
        "id": "-021mysE_qvi",
        "outputId": "018ecb62-8272-4481-b29f-fd647eb26e4e"
      },
      "execution_count": 22,
      "outputs": [
        {
          "output_type": "stream",
          "name": "stdout",
          "text": [
            "Error: The key 'city' does not exist in the dictionary.\n"
          ]
        }
      ]
    },
    {
      "cell_type": "code",
      "source": [
        "#20.F How would you open a file and read its contents using a context manager in Python\n",
        "try:\n",
        "    with open(\"myfile.txt\", \"r\") as file:\n",
        "        content = file.read()\n",
        "        print(content)\n",
        "except FileNotFoundError:\n",
        "    print(\"The file 'myfile.txt' does not exist.\")\n"
      ],
      "metadata": {
        "colab": {
          "base_uri": "https://localhost:8080/"
        },
        "id": "3liFFwrm_yuG",
        "outputId": "b782651c-91ff-4104-d6f6-bfb9ed7cc2df"
      },
      "execution_count": 23,
      "outputs": [
        {
          "output_type": "stream",
          "name": "stdout",
          "text": [
            "This is a new line.\n",
            "\n"
          ]
        }
      ]
    },
    {
      "cell_type": "code",
      "source": [
        "#21. Write a Python program that reads a file and prints the number of occurrences of a specific word\n",
        "try:\n",
        "    with open(\"myfile.txt\", \"r\") as file:\n",
        "        content = file.read()\n",
        "        word_count = content.count(\"example\")\n",
        "        print(f\"The word 'example' appears {word_count} times in the file.\")\n",
        "except FileNotFoundError:\n",
        "    print(\"The file 'myfile.txt' does not exist.\")\n",
        "\n"
      ],
      "metadata": {
        "colab": {
          "base_uri": "https://localhost:8080/"
        },
        "id": "qsp4nF6kAC1C",
        "outputId": "2150311a-5ace-4db4-d74a-b1b2a3015dbc"
      },
      "execution_count": 24,
      "outputs": [
        {
          "output_type": "stream",
          "name": "stdout",
          "text": [
            "The word 'example' appears 0 times in the file.\n"
          ]
        }
      ]
    },
    {
      "cell_type": "code",
      "source": [
        "#22.How can you check if a file is empty before attempting to read its contents\n",
        "try:\n",
        "    with open(\"myfile.txt\", \"r\") as file:\n",
        "        content = file.read()\n",
        "        if content:\n",
        "            print(content)\n",
        "        else:\n",
        "            print(\"The file is empty.\")\n",
        "\n",
        "except FileNotFoundError:\n",
        "    print(\"The file 'myfile.txt' does not exist.\")"
      ],
      "metadata": {
        "colab": {
          "base_uri": "https://localhost:8080/"
        },
        "id": "DQ8ZuF4eAOf6",
        "outputId": "c236abe0-f30e-4f8b-fff8-3703e2b1130d"
      },
      "execution_count": 26,
      "outputs": [
        {
          "output_type": "stream",
          "name": "stdout",
          "text": [
            "This is a new line.\n",
            "\n"
          ]
        }
      ]
    },
    {
      "cell_type": "code",
      "source": [
        "#23.Write a Python program that writes to a log file when an error occurs during file handling.\n",
        "import logging\n",
        "logging.basicConfig(filename='error.log', level=logging.ERROR)\n",
        "try:\n",
        "    with open(\"myfile.txt\", \"r\") as file:\n",
        "        content = file.read()\n",
        "        print(content)\n",
        "except FileNotFoundError:\n",
        "    logging.error(\"File not found: myfile.txt\")\n"
      ],
      "metadata": {
        "colab": {
          "base_uri": "https://localhost:8080/"
        },
        "id": "KlDkARmeAZzZ",
        "outputId": "ea6a365d-c72a-4ca1-d93a-a7f2c7883562"
      },
      "execution_count": 27,
      "outputs": [
        {
          "output_type": "stream",
          "name": "stdout",
          "text": [
            "This is a new line.\n",
            "\n"
          ]
        }
      ]
    },
    {
      "cell_type": "code",
      "source": [],
      "metadata": {
        "id": "Cru1k_2gAz53"
      },
      "execution_count": null,
      "outputs": []
    }
  ]
}